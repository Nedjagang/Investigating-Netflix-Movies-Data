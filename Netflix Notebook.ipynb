{
 "cells": [
  {
   "cell_type": "code",
   "execution_count": 1,
   "id": "b77a47fa",
   "metadata": {},
   "outputs": [],
   "source": [
    "# Importing pandas and matplotlib\n",
    "import pandas as pd\n",
    "import matplotlib.pyplot as plt"
   ]
  },
  {
   "cell_type": "code",
   "execution_count": null,
   "id": "bcdce0a1",
   "metadata": {},
   "outputs": [],
   "source": [
    "# Read in the Netflix CSV as a DataFrame\n",
    "netflix_df = pd.read_csv(\"netflix_data.csv\")"
   ]
  },
  {
   "cell_type": "code",
   "execution_count": 2,
   "id": "0a09542f",
   "metadata": {},
   "outputs": [
    {
     "ename": "NameError",
     "evalue": "name 'netflix_df' is not defined",
     "output_type": "error",
     "traceback": [
      "\u001b[1;31m---------------------------------------------------------------------------\u001b[0m",
      "\u001b[1;31mNameError\u001b[0m                                 Traceback (most recent call last)",
      "\u001b[1;32m~\\AppData\\Local\\Temp\\ipykernel_10456\\1166239405.py\u001b[0m in \u001b[0;36m<module>\u001b[1;34m\u001b[0m\n\u001b[0;32m      1\u001b[0m \u001b[1;31m# Subset the DataFrame for type \"Movie\"\u001b[0m\u001b[1;33m\u001b[0m\u001b[1;33m\u001b[0m\u001b[0m\n\u001b[1;32m----> 2\u001b[1;33m \u001b[0mnetflix_subset\u001b[0m \u001b[1;33m=\u001b[0m \u001b[0mnetflix_df\u001b[0m\u001b[1;33m[\u001b[0m\u001b[0mnetflix_df\u001b[0m\u001b[1;33m[\u001b[0m\u001b[1;34m\"type\"\u001b[0m\u001b[1;33m]\u001b[0m \u001b[1;33m==\u001b[0m \u001b[1;34m\"Movie\"\u001b[0m\u001b[1;33m]\u001b[0m\u001b[1;33m\u001b[0m\u001b[1;33m\u001b[0m\u001b[0m\n\u001b[0m",
      "\u001b[1;31mNameError\u001b[0m: name 'netflix_df' is not defined"
     ]
    }
   ],
   "source": [
    "# Subset the DataFrame for type \"Movie\"\n",
    "netflix_subset = netflix_df[netflix_df[\"type\"] == \"Movie\"]"
   ]
  },
  {
   "cell_type": "code",
   "execution_count": null,
   "id": "ed1b4c74",
   "metadata": {},
   "outputs": [],
   "source": [
    "# Select only the columns of interest\n",
    "netflix_movies = netflix_subset[[\"title\", \"country\", \"genre\", \"release_year\", \"duration\"]]"
   ]
  },
  {
   "cell_type": "code",
   "execution_count": null,
   "id": "fa92d82c",
   "metadata": {},
   "outputs": [],
   "source": [
    "# Filter for durations shorter than 60 minutes\n",
    "short_movies = netflix_movies[netflix_movies.duration < 60]"
   ]
  },
  {
   "cell_type": "code",
   "execution_count": null,
   "id": "405ceb9f",
   "metadata": {},
   "outputs": [],
   "source": [
    "# Iterate over rows of netflix_movies\n",
    "for label, row in netflix_movies.iterrows() :\n",
    "    if row[\"genre\"] == \"Children\" :\n",
    "        colors.append(\"red\")\n",
    "    elif row[\"genre\"] == \"Documentaries\" :\n",
    "        colors.append(\"blue\")\n",
    "    elif row[\"genre\"] == \"Stand-Up\":\n",
    "        colors.append(\"green\")\n",
    "    else:\n",
    "        colors.append(\"black\")"
   ]
  },
  {
   "cell_type": "code",
   "execution_count": null,
   "id": "e80d3d33",
   "metadata": {},
   "outputs": [],
   "source": [
    "# Define an empty list\n",
    "colors = []\n",
    "        \n",
    "# Inspect the first 10 values in your list        \n",
    "colors[:10]"
   ]
  },
  {
   "cell_type": "code",
   "execution_count": null,
   "id": "a274b059",
   "metadata": {},
   "outputs": [],
   "source": [
    "# Set the figure style and initalize a new figure\n",
    "fig = plt.figure(figsize=(12,8))\n",
    "\n",
    "# Create a scatter plot of duration versus release_year\n",
    "plt.scatter(netflix_movies.release_year, netflix_movies.duration, c=colors)\n",
    "\n",
    "# Create a title and axis labels\n",
    "plt.title(\"Movie Duration by Year of Release\")\n",
    "plt.xlabel(\"Release year\")\n",
    "plt.ylabel(\"Duration (min)\")\n",
    "\n",
    "# Show the plot\n",
    "plt.show()\n"
   ]
  },
  {
   "cell_type": "code",
   "execution_count": null,
   "id": "a190c90e",
   "metadata": {},
   "outputs": [],
   "source": [
    "# Are we certain that movies are getting shorter?\n",
    "answer = \"maybe\""
   ]
  }
 ],
 "metadata": {
  "kernelspec": {
   "display_name": "Python 3 (ipykernel)",
   "language": "python",
   "name": "python3"
  },
  "language_info": {
   "codemirror_mode": {
    "name": "ipython",
    "version": 3
   },
   "file_extension": ".py",
   "mimetype": "text/x-python",
   "name": "python",
   "nbconvert_exporter": "python",
   "pygments_lexer": "ipython3",
   "version": "3.9.13"
  }
 },
 "nbformat": 4,
 "nbformat_minor": 5
}
